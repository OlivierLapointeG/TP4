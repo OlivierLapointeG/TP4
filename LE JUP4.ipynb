{
 "cells": [
  {
   "cell_type": "markdown",
   "metadata": {},
   "source": [
    "### <center>   Travail pratique 4 : Physique Numérique - PHY-3500"
   ]
  },
  {
   "cell_type": "markdown",
   "metadata": {},
   "source": [
    "## <center> Équations différentielles partielles"
   ]
  },
  {
   "cell_type": "markdown",
   "metadata": {},
   "source": [
    "#### <center>Par Julien Houle, Olivier Lapointe-Gagné et Pierre-Luc Larouche"
   ]
  },
  {
   "cell_type": "markdown",
   "metadata": {},
   "source": [
    "***"
   ]
  },
  {
   "cell_type": "markdown",
   "metadata": {},
   "source": [
    "Voici les différents modules, librairies et variables utilisées au travers du travail :"
   ]
  },
  {
   "cell_type": "code",
   "execution_count": null,
   "metadata": {},
   "outputs": [],
   "source": [
    "import numpy as np\n",
    "from math import e\n",
    "import time\n",
    "from scipy.constants import hbar\n",
    "from matplotlib import pyplot as plt"
   ]
  },
  {
   "cell_type": "code",
   "execution_count": null,
   "metadata": {},
   "outputs": [],
   "source": [
    "'''\n",
    "Liste de constantes utiles\n",
    "'''\n",
    "m_e = 9.109e-31 # kg "
   ]
  },
  {
   "cell_type": "markdown",
   "metadata": {},
   "source": [
    "### Question 1"
   ]
  },
  {
   "cell_type": "markdown",
   "metadata": {},
   "source": [
    "On peut d'abord implémenter la fonction d'onde de l'électron dans la boîte unidimensionnelle à $t=0$, puis l'utiliser pour produire un vecteur dont chaque composante corespond à la valeur de $\\psi$ au départ à chawue incrément de position $a$, qui correspond à un millième du puit. "
   ]
  },
  {
   "cell_type": "code",
   "execution_count": null,
   "metadata": {},
   "outputs": [],
   "source": [
    "def psi_0(x, L):\n",
    "    '''\n",
    "    Fonction qui calcule la fonction d'onde d'un électron au temps 0 à une position donné\n",
    "\n",
    "    Paramètres: x: La position de l'électron, L: La longueur de la boîte\n",
    "\n",
    "    Retourne: La valeur de psi \n",
    "    '''\n",
    "    x_0 = L/2\n",
    "    sig = 1e-10 #en mètres\n",
    "    k = 5e10 # en 1/mètres\n",
    "    psi = e**(-(x-x_0)**2/(2*sig**2))*e**(1j*k*x)\n",
    "    return psi"
   ]
  },
  {
   "cell_type": "code",
   "execution_count": null,
   "metadata": {},
   "outputs": [],
   "source": [
    "def psi_0_vec(L,N):\n",
    "    '''\n",
    "    Fonction qui construit le vecteur psi(0) en fonction des pas de distance a\n",
    "\n",
    "    Paramètres : L, la longueur de la boîte unidimensionnelle, N, le nombre de pas dans la boîte\n",
    "\n",
    "    Retourne : le vecteur psi(0)\n",
    "    '''\n",
    "    a = L/N\n",
    "    psi0 = np.empty([N+1,1],complex)\n",
    "    for i in range(N):\n",
    "        psi0[i]=(psi_0((i)*a,L))\n",
    "    return psi0"
   ]
  },
  {
   "cell_type": "code",
   "execution_count": null,
   "metadata": {},
   "outputs": [],
   "source": [
    "def matrice(lettre,N,L,h):\n",
    "    '''\n",
    "    Fonction crée la matrice A ou B\n",
    "\n",
    "    Paramètres: lettre: choix de matrice à créer, ran:nombre de rangées, col:nombre de colonnes, \n",
    "                N:nombre d'itérations positionnelles, L: longueur de la boîte, h:grandeur des itérations temporelles\n",
    "\n",
    "    Retourne: une matrice tridiagonale qui constitue notre système d'équations différentielles\n",
    "    '''\n",
    "    a = L/N\n",
    "    a_1 = 1 + h*1j*hbar/(2*m_e*a**2)\n",
    "    a_2 = -h*1j*hbar/(4*m_e*a**2)\n",
    "    b_1 = 1 - h*1j*hbar/(2*m_e*a**2)\n",
    "    b_2 = h*1j*hbar/(4*m_e**2)\n",
    "    matrice = np.zeros((N+1,N+1),complex)\n",
    "    if lettre == 'A':\n",
    "        for i in range(N+1):\n",
    "            for l in range(N+1):\n",
    "                if i == l:\n",
    "                    matrice[i][l]  = a_1\n",
    "                if i == l + 1 or i == l -1:\n",
    "                    matrice[i][l] = a_2\n",
    "    if lettre == 'B':\n",
    "        for i in range(N+1):\n",
    "            for l in range(N+1):\n",
    "                if i == l:\n",
    "                    matrice[i][l]  = b_1\n",
    "                if i == l + 1 or i == l -1:\n",
    "                    matrice[i][l] = b_2\n",
    "    return matrice"
   ]
  },
  {
   "cell_type": "code",
   "execution_count": null,
   "metadata": {},
   "outputs": [],
   "source": [
    "def v_vec(L,N,h,psi):\n",
    "    '''\n",
    "    Fonction qui construit le vecteur v à partir de B et psi\n",
    "\n",
    "    Paramètres: L:Longueur de la boîte, N: nombre de pas positionnel, h:grandeur des pas temporelles\n",
    "    '''\n",
    "    a = L/N\n",
    "    b_1 = 1 - h*1j*hbar/(2*m_e*a**2)\n",
    "    b_2 = h*1j*hbar/(4*m_e**2)\n",
    "    v = np.empty((N+1,1),complex)\n",
    "    v[0] = b_1*psi[0]+b_2*psi[1]\n",
    "    v[N] = b_1*psi[N]+b_2*psi[N-1]\n",
    "    for i in range(1,N):\n",
    "        v[i] = b_1*psi[i]+b_2*(psi[i-1]+psi[i+1])\n",
    "    return v"
   ]
  },
  {
   "cell_type": "markdown",
   "metadata": {},
   "source": [
    "### Question 2"
   ]
  },
  {
   "cell_type": "code",
   "execution_count": null,
   "metadata": {},
   "outputs": [],
   "source": [
    "def Thomas(Matrice, Vecteur):\n",
    "    '''\n",
    "    Fonction qui utilise l'algo de Thomas pour résoudre AX = v\n",
    "\n",
    "    Paramètres: Matrice est un matrice carré tridiagonale, Vecteur est une matrice vecteur\n",
    "\n",
    "    Retourne: Un vecteur correspondant à X\n",
    "\n",
    "    NOTE: Jesus saith unto him, Thomas, because thou hast seen me, thou hast believed:\n",
    "    blessed are they that have not seen, and yet have believed\n",
    "    '''\n",
    "    taille = len(Matrice)\n",
    "    noVect = np.empty([taille,1])\n",
    "\n",
    "    # Boucle qui fait la réduction de Gauss simplifiée sur la matrice et le vecteur.\n",
    "    for i in range(taille-1):\n",
    "        Vecteur[i][0] = Vecteur[i][0]/ Matrice[i][i]\n",
    "        Matrice[i] = Matrice[i]/ Matrice[i][i]\n",
    "        Vecteur[i+1][0] = Vecteur[i+1][0] - Matrice[i+1][i]*Vecteur[i][0]\n",
    "        Matrice[i+1] = Matrice[i+1]-(Matrice[i+1][i]* Matrice[i])\n",
    "    Vecteur[taille-1][0] = Vecteur[taille-1][0]/ Matrice[taille-1][taille-1]\n",
    "    Matrice[taille-1] = Matrice[taille-1] / Matrice[taille-1][taille-1]\n",
    "    noVect[taille - 1][0] = Vecteur[taille - 1][0]\n",
    "    \n",
    "    # Boucle qui construit notre vecteur de sortie.\n",
    "    for i in reversed(range(taille-1)):\n",
    "        noVect[i][0] = Vecteur[i][0] - Matrice[i][i+1]*noVect[i+1][0]\n",
    "    return noVect"
   ]
  },
  {
   "cell_type": "markdown",
   "metadata": {},
   "source": [
    "### Question 3"
   ]
  },
  {
   "cell_type": "code",
   "execution_count": null,
   "metadata": {},
   "outputs": [],
   "source": [
    "def Animation():\n",
    "    x = np.linspace(0, 10, 100)\n",
    "    y = np.cos(x)\n",
    "\n",
    "    fig = plt.figure()\n",
    "    plt.show()\n",
    "    for p in range(50):\n",
    "        p = 3\n",
    "        updated_x = x + p\n",
    "        updated_y = np.cos(x)\n",
    "        plt.plot(updated_x, updated_y)\n",
    "        plt.draw()\n",
    "        x = updated_x\n",
    "        y = updated_y\n",
    "        plt.pause(0.2)\n",
    "        fig.clear()\n",
    "        "
   ]
  }
 ],
 "metadata": {
  "kernelspec": {
   "display_name": "Python 3",
   "language": "python",
   "name": "python3"
  },
  "language_info": {
   "codemirror_mode": {
    "name": "ipython",
    "version": 3
   },
   "file_extension": ".py",
   "mimetype": "text/x-python",
   "name": "python",
   "nbconvert_exporter": "python",
   "pygments_lexer": "ipython3",
   "version": "3.8.3"
  }
 },
 "nbformat": 4,
 "nbformat_minor": 2
}
