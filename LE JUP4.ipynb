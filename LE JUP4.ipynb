{
 "cells": [
  {
   "cell_type": "markdown",
   "metadata": {},
   "source": [
    "### <center>   Travail pratique 4 : Physique Numérique - PHY-3500"
   ]
  },
  {
   "cell_type": "markdown",
   "metadata": {},
   "source": [
    "## <center> Équations différentielles partielles"
   ]
  },
  {
   "cell_type": "markdown",
   "metadata": {},
   "source": [
    "#### <center>Par Julien Houle, Olivier Lapointe-Gagné et Pierre-Luc Larouche"
   ]
  },
  {
   "cell_type": "markdown",
   "metadata": {},
   "source": [
    "***"
   ]
  },
  {
   "cell_type": "markdown",
   "metadata": {},
   "source": [
    "Voici les différents modules, librairies et variables utilisées au travers du travail :"
   ]
  },
  {
   "cell_type": "code",
   "execution_count": 10,
   "metadata": {},
   "outputs": [],
   "source": [
    "%matplotlib inline\n",
    "import numpy as np\n",
    "import matplotlib.pyplot as plt\n",
    "from math import e\n",
    "import time\n",
    "from scipy.constants import hbar\n",
    "from mpl_toolkits.mplot3d import Axes3D \n",
    "import matplotlib.animation as animation\n",
    "from IPython.display import HTML\n",
    "Writer = animation.FFMpegWriter(fps=20, metadata=dict(artist='Me'), bitrate=1800)"
   ]
  },
  {
   "cell_type": "code",
   "execution_count": 11,
   "metadata": {},
   "outputs": [],
   "source": [
    "'''\n",
    "Liste de constantes utiles\n",
    "'''\n",
    "m_e = 9.109e-31 # kg "
   ]
  },
  {
   "cell_type": "markdown",
   "metadata": {},
   "source": [
    "### Question 1"
   ]
  },
  {
   "cell_type": "markdown",
   "metadata": {},
   "source": [
    "On peut d'abord implémenter la fonction d'onde de l'électron dans la boîte unidimensionnelle à $t=0$, puis l'utiliser pour produire un vecteur dont chaque composante corespond à la valeur de $\\psi$ au départ à chaque incrément de position $a$, qui correspond ici à un millième du puit. Une troisième fonction construira alors les matrices tridiagonales $A$ ou $B$ d'un seul coup et une quatrième fonction en calculera le vecteur $v$ à partir de la matrice $B$ et du vecteur $\\psi$."
   ]
  },
  {
   "cell_type": "code",
   "execution_count": 12,
   "metadata": {},
   "outputs": [],
   "source": [
    "def psi_0(x, L):\n",
    "    '''\n",
    "    Fonction qui calcule la fonction d'onde d'un électron au temps 0 à une position donné\n",
    "\n",
    "    Paramètres: x: La position de l'électron, L: La longueur de la boîte\n",
    "\n",
    "    Retourne: La valeur de psi \n",
    "    '''\n",
    "    x_0 = L/2\n",
    "    sig = 1e-10 #en mètres\n",
    "    k = 5e10 # en 1/mètres\n",
    "    psi = np.exp(-(x-x_0)**2/(2*sig**2))*np.exp(1j*k*x)\n",
    "    return psi"
   ]
  },
  {
   "cell_type": "code",
   "execution_count": 13,
   "metadata": {},
   "outputs": [],
   "source": [
    "def psi_0_vec(L,N):\n",
    "    '''\n",
    "    Fonction qui construit le vecteur psi(0) en fonction des pas de distance a\n",
    "\n",
    "    Paramètres : L, la longueur de la boîte unidimensionnelle, N, le nombre de pas dans la boîte\n",
    "\n",
    "    Retourne : le vecteur psi(0)\n",
    "    '''\n",
    "    a = L/N\n",
    "    psi0 = np.empty([N+1,1],complex)\n",
    "    for i in range(N+1):\n",
    "        psi0[i]=psi_0(i*a,L)\n",
    "    return psi0"
   ]
  },
  {
   "cell_type": "code",
   "execution_count": 14,
   "metadata": {},
   "outputs": [],
   "source": [
    "def matrice(lettre,N,L,h):\n",
    "    '''\n",
    "    Fonction qui crée la matrice A ou B\n",
    "\n",
    "    Paramètres: lettre: choix de matrice à créer, \n",
    "                N:nombre d'itérations positionnelles, L: longueur de la boîte, h:grandeur des itérations temporelles\n",
    "\n",
    "    Retourne: une matrice tridiagonale qui constitue notre système d'équations différentielles\n",
    "    '''\n",
    "    a = L/N\n",
    "    a_1 = 1 + h*1j*hbar/(2*m_e*a**2)\n",
    "    a_2 = -h*1j*hbar/(4*m_e*a**2)\n",
    "    b_1 = 1 - h*1j*hbar/(2*m_e*a**2)\n",
    "    b_2 = h*1j*hbar/(4*m_e*a**2)\n",
    "    matrice = np.zeros((N+1,N+1),complex)\n",
    "    if lettre == 'A':\n",
    "        for i in range(N+1):\n",
    "            for l in range(N+1):\n",
    "                if i == l:\n",
    "                    matrice[i][l]  = a_1\n",
    "                if i == l + 1 or i == l -1:\n",
    "                    matrice[i][l] = a_2\n",
    "    if lettre == 'B':\n",
    "        for i in range(N+1):\n",
    "            for l in range(N+1):\n",
    "                if i == l:\n",
    "                    matrice[i][l]  = b_1\n",
    "                if i == l + 1 or i == l -1:\n",
    "                    matrice[i][l] = b_2\n",
    "    return matrice"
   ]
  },
  {
   "cell_type": "code",
   "execution_count": 15,
   "metadata": {},
   "outputs": [],
   "source": [
    "def v_vec(L,N,h,psi):\n",
    "    '''\n",
    "    Fonction qui construit le vecteur v à partir de B et psi\n",
    "\n",
    "    Paramètres: L:Longueur de la boîte, N: nombre de pas positionnel, h:grandeur des pas temporelles\n",
    "\n",
    "    Retourne: le vecteur v recherché\n",
    "    '''\n",
    "    a = L/N\n",
    "    b_1 = 1 - h*1j*hbar/(2*m_e*a**2)\n",
    "    b_2 = h*1j*hbar/(4*m_e*a**2)\n",
    "    v = np.empty((N+1,1),complex)\n",
    "    v[0] = b_1*psi[0]+b_2*psi[1]\n",
    "    v[N] = b_1*psi[N]+b_2*psi[N-1]\n",
    "    for i in range(1,N):\n",
    "        v[i] = b_1*psi[i]+b_2*(psi[i-1]+psi[i+1])\n",
    "    return v"
   ]
  },
  {
   "cell_type": "markdown",
   "metadata": {},
   "source": [
    "### Question 2"
   ]
  },
  {
   "cell_type": "markdown",
   "metadata": {},
   "source": [
    "Une cinquième fonction, implémentant un algorithme de Thomas, permettra d'extraire le vecteur $x$, la valeur de la fonction d'onde pour chaque incrément de position au temps $h$ voulu, à partir de la matrice $A$ et du vecteur $v$."
   ]
  },
  {
   "cell_type": "code",
   "execution_count": 16,
   "metadata": {},
   "outputs": [],
   "source": [
    "def Thomas(MatriceIni, VecteurIni):\n",
    "    '''\n",
    "    Fonction qui utilise l'algo de Thomas pour résoudre AX = v\n",
    "\n",
    "    Paramètres: Matrice est un matrice carré tridiagonale, Vecteur est une matrice vecteur\n",
    "\n",
    "    Retourne: Un vecteur correspondant à X\n",
    "\n",
    "    NOTE: Jesus saith unto him, Thomas, because thou hast seen me, thou hast believed:\n",
    "    blessed are they that have not seen, and yet have believed\n",
    "    '''\n",
    "    taille = len(MatriceIni)\n",
    "    Matrice = np.copy(MatriceIni)\n",
    "    Vecteur = np.copy(VecteurIni)\n",
    "\n",
    "    # Boucle qui fait la réduction de Gauss simplifiée sur la matrice et le vecteur.\n",
    "    for i in range(taille - 1):\n",
    "        Vecteur[i][0] /= (Matrice[i][i])\n",
    "        Matrice[i] /= (Matrice[i][i])\n",
    "        Vecteur[i + 1][0] -= (Matrice[i + 1][i]) * (Vecteur[i][0])\n",
    "        Matrice[i + 1] -= ((Matrice[i + 1][i]) * (Matrice[i]))\n",
    "    Vecteur[taille - 1][0] /= (Matrice[taille - 1][taille - 1])\n",
    "    Matrice[taille - 1] /= (Matrice[taille - 1][taille - 1])\n",
    "\n",
    "    # Boucle qui construit notre vecteur de sortie.\n",
    "    for i in reversed(range(taille - 1)):\n",
    "        Vecteur[i][0] -= (Matrice[i][i + 1]) * (Vecteur[i + 1][0])\n",
    "    return Vecteur"
   ]
  },
  {
   "cell_type": "markdown",
   "metadata": {},
   "source": [
    "### Question 3"
   ]
  },
  {
   "cell_type": "markdown",
   "metadata": {},
   "source": [
    "On peut alors regrouper toutes ces fonctions dans une seule afin de calculer $\\psi$ pour chaque $x$ à chaque incrément de temps $h$ selon la méthode de Crank-Nicolson et en ensuite en produire une animation."
   ]
  },
  {
   "cell_type": "code",
   "execution_count": 17,
   "metadata": {},
   "outputs": [],
   "source": [
    "def Crank_Nico(h,N,L,m):\n",
    "    '''\n",
    "    Fonction qui estime la valeur de psi en fonction du temps et de x avec la méthode de Crank-Nicolson\n",
    "\n",
    "    Paramètres: h: grandeur des itérations temporelles, N: nombre d'itérations positionnelle, L:longueur de la boîte,\n",
    "                m: nombre d'itérations temporelles\n",
    "\n",
    "    Retourne: liste des états\n",
    "    '''\n",
    "    \n",
    "    #On crée nos matrices\n",
    "    A = matrice(\"A\",N,1e-8,1e-18)\n",
    "    \n",
    "    #On crée notre vecteur initial\n",
    "    psi = psi_0_vec(L,N)\n",
    "\n",
    "    #On crée nos liste vides qui serviront à stocker nos points (eventuellement pour tracer)\n",
    "    liste_x = [0]\n",
    "    for i in range(N):\n",
    "        liste_x.append(liste_x[-1]+(L/N))\n",
    "    liste_psi = []\n",
    "    liste_etats = []\n",
    "\n",
    "    #On crée un compteur pour le temps\n",
    "    t=0\n",
    "    \n",
    "    #On crée le premier état (t=0)\n",
    "    etat_1=np.transpose(psi)[0]\n",
    "    liste_psi = etat_1\n",
    "    liste_etats.append(liste_psi)\n",
    "\n",
    "    #On crée une boucle infini\n",
    "    while t<m*1e-18:\n",
    "        #On augmente notre compteur de temps de h\n",
    "        t += h\n",
    "        #On applique la méhode de thomas pour trouver le deuxième etat\n",
    "        v= v_vec(L,N,h,psi)\n",
    "        psi = Thomas(A,v)\n",
    "\n",
    "        etat = np.transpose(psi)[0]\n",
    "        liste_psi = etat\n",
    "\n",
    "        liste_etats.append(liste_psi)\n",
    "    return liste_etats"
   ]
  },
  {
   "cell_type": "code",
   "execution_count": 18,
   "metadata": {},
   "outputs": [
    {
     "data": {
      "text/plain": [
       "<Figure size 432x288 with 0 Axes>"
      ]
     },
     "metadata": {},
     "output_type": "display_data"
    },
    {
     "ename": "RuntimeError",
     "evalue": "Requested MovieWriter (ffmpeg) not available",
     "output_type": "error",
     "traceback": [
      "\u001b[1;31m---------------------------------------------------------------------------\u001b[0m",
      "\u001b[1;31mKeyError\u001b[0m                                  Traceback (most recent call last)",
      "\u001b[1;32mc:\\users\\olivier\\appdata\\local\\programs\\python\\python38-32\\lib\\site-packages\\matplotlib\\animation.py\u001b[0m in \u001b[0;36m__getitem__\u001b[1;34m(self, name)\u001b[0m\n\u001b[0;32m    160\u001b[0m         \u001b[1;32mtry\u001b[0m\u001b[1;33m:\u001b[0m\u001b[1;33m\u001b[0m\u001b[1;33m\u001b[0m\u001b[0m\n\u001b[1;32m--> 161\u001b[1;33m             \u001b[1;32mreturn\u001b[0m \u001b[0mself\u001b[0m\u001b[1;33m.\u001b[0m\u001b[0mavail\u001b[0m\u001b[1;33m[\u001b[0m\u001b[0mname\u001b[0m\u001b[1;33m]\u001b[0m\u001b[1;33m\u001b[0m\u001b[1;33m\u001b[0m\u001b[0m\n\u001b[0m\u001b[0;32m    162\u001b[0m         \u001b[1;32mexcept\u001b[0m \u001b[0mKeyError\u001b[0m\u001b[1;33m:\u001b[0m\u001b[1;33m\u001b[0m\u001b[1;33m\u001b[0m\u001b[0m\n",
      "\u001b[1;31mKeyError\u001b[0m: 'ffmpeg'",
      "\nDuring handling of the above exception, another exception occurred:\n",
      "\u001b[1;31mRuntimeError\u001b[0m                              Traceback (most recent call last)",
      "\u001b[1;32m<ipython-input-18-0e39611f2781>\u001b[0m in \u001b[0;36m<module>\u001b[1;34m\u001b[0m\n\u001b[0;32m     22\u001b[0m \u001b[0mplt\u001b[0m\u001b[1;33m.\u001b[0m\u001b[0mshow\u001b[0m\u001b[1;33m(\u001b[0m\u001b[1;33m)\u001b[0m\u001b[1;33m\u001b[0m\u001b[1;33m\u001b[0m\u001b[0m\n\u001b[0;32m     23\u001b[0m \u001b[0mplt\u001b[0m\u001b[1;33m.\u001b[0m\u001b[0mclose\u001b[0m\u001b[1;33m(\u001b[0m\u001b[0mani\u001b[0m\u001b[1;33m.\u001b[0m\u001b[0m_fig\u001b[0m\u001b[1;33m)\u001b[0m\u001b[1;33m\u001b[0m\u001b[1;33m\u001b[0m\u001b[0m\n\u001b[1;32m---> 24\u001b[1;33m \u001b[0mHTML\u001b[0m\u001b[1;33m(\u001b[0m\u001b[0mani\u001b[0m\u001b[1;33m.\u001b[0m\u001b[0mto_html5_video\u001b[0m\u001b[1;33m(\u001b[0m\u001b[1;33m)\u001b[0m\u001b[1;33m)\u001b[0m\u001b[1;33m\u001b[0m\u001b[1;33m\u001b[0m\u001b[0m\n\u001b[0m",
      "\u001b[1;32mc:\\users\\olivier\\appdata\\local\\programs\\python\\python38-32\\lib\\site-packages\\matplotlib\\animation.py\u001b[0m in \u001b[0;36mto_html5_video\u001b[1;34m(self, embed_limit)\u001b[0m\n\u001b[0;32m   1324\u001b[0m                 \u001b[1;31m# We create a writer manually so that we can get the\u001b[0m\u001b[1;33m\u001b[0m\u001b[1;33m\u001b[0m\u001b[1;33m\u001b[0m\u001b[0m\n\u001b[0;32m   1325\u001b[0m                 \u001b[1;31m# appropriate size for the tag\u001b[0m\u001b[1;33m\u001b[0m\u001b[1;33m\u001b[0m\u001b[1;33m\u001b[0m\u001b[0m\n\u001b[1;32m-> 1326\u001b[1;33m                 \u001b[0mWriter\u001b[0m \u001b[1;33m=\u001b[0m \u001b[0mwriters\u001b[0m\u001b[1;33m[\u001b[0m\u001b[0mrcParams\u001b[0m\u001b[1;33m[\u001b[0m\u001b[1;34m'animation.writer'\u001b[0m\u001b[1;33m]\u001b[0m\u001b[1;33m]\u001b[0m\u001b[1;33m\u001b[0m\u001b[1;33m\u001b[0m\u001b[0m\n\u001b[0m\u001b[0;32m   1327\u001b[0m                 writer = Writer(codec='h264',\n\u001b[0;32m   1328\u001b[0m                                 \u001b[0mbitrate\u001b[0m\u001b[1;33m=\u001b[0m\u001b[0mrcParams\u001b[0m\u001b[1;33m[\u001b[0m\u001b[1;34m'animation.bitrate'\u001b[0m\u001b[1;33m]\u001b[0m\u001b[1;33m,\u001b[0m\u001b[1;33m\u001b[0m\u001b[1;33m\u001b[0m\u001b[0m\n",
      "\u001b[1;32mc:\\users\\olivier\\appdata\\local\\programs\\python\\python38-32\\lib\\site-packages\\matplotlib\\animation.py\u001b[0m in \u001b[0;36m__getitem__\u001b[1;34m(self, name)\u001b[0m\n\u001b[0;32m    161\u001b[0m             \u001b[1;32mreturn\u001b[0m \u001b[0mself\u001b[0m\u001b[1;33m.\u001b[0m\u001b[0mavail\u001b[0m\u001b[1;33m[\u001b[0m\u001b[0mname\u001b[0m\u001b[1;33m]\u001b[0m\u001b[1;33m\u001b[0m\u001b[1;33m\u001b[0m\u001b[0m\n\u001b[0;32m    162\u001b[0m         \u001b[1;32mexcept\u001b[0m \u001b[0mKeyError\u001b[0m\u001b[1;33m:\u001b[0m\u001b[1;33m\u001b[0m\u001b[1;33m\u001b[0m\u001b[0m\n\u001b[1;32m--> 163\u001b[1;33m             raise RuntimeError(\n\u001b[0m\u001b[0;32m    164\u001b[0m                 'Requested MovieWriter ({}) not available'.format(name))\n\u001b[0;32m    165\u001b[0m \u001b[1;33m\u001b[0m\u001b[0m\n",
      "\u001b[1;31mRuntimeError\u001b[0m: Requested MovieWriter (ffmpeg) not available"
     ]
    }
   ],
   "source": [
    "'''\n",
    "Programmons l'animation da fonction d'onde\n",
    "'''\n",
    "\n",
    "liste_y = Crank_Nico(1e-18,1000,1e-8,1000)\n",
    "liste_x = [0]\n",
    "for i in range(1000):\n",
    "    liste_x.append(liste_x[-1]+((1e-8)/1000))\n",
    "\n",
    "fig = plt.figure()\n",
    "\n",
    "\n",
    "def animate(i):\n",
    "    x = liste_x\n",
    "    y = np.real(liste_y[i]) \n",
    "    fig.clear() \n",
    "    plt.plot(x,y)\n",
    "    plt.plot(x,y)\n",
    "    plt.ylim(-1,1)\n",
    "\n",
    "ani = animation.FuncAnimation(fig, animate, interval=1,blit=False)\n",
    "plt.show()\n",
    "plt.close(ani._fig)\n",
    "HTML(ani.to_html5_video())"
   ]
  },
  {
   "cell_type": "code",
   "execution_count": null,
   "metadata": {},
   "outputs": [],
   "source": [
    "#Crank_Nico(1e-18,1000,1e-8)"
   ]
  },
  {
   "cell_type": "markdown",
   "metadata": {},
   "source": [
    "### Question 4"
   ]
  },
  {
   "cell_type": "markdown",
   "metadata": {},
   "source": [
    "Idem qu'à la question précédante, en remplaçant seulement le calcul d'algèbre linéaire exécuté par l'algorithme de Thomas pas celui déjà implémenté dans Numpy, soit linalg. On constate le même résultat numérique pour les deux, seulement un grand gain en temps en utilisant notre propre méthode de calcul. "
   ]
  },
  {
   "cell_type": "code",
   "execution_count": null,
   "metadata": {},
   "outputs": [],
   "source": [
    "def Crank_Nico_linalg(h,N,L):\n",
    "    '''\n",
    "    Fonction qui estime la valeur de psi en fonction du temps et de x avec la méthode de Crank-Nicolson\n",
    "\n",
    "    Paramètres: h: grandeur des itérations temporelles, N: nombre d'itérations positionnelle, L:longueur de la boîte\n",
    "\n",
    "    Retourne:\n",
    "    '''\n",
    "\n",
    "    #On crée une figure pyplot\n",
    "    plt.ion()\n",
    "\n",
    "    figure, ax = plt.subplots(figsize=(8, 6))\n",
    "    \n",
    "    #On crée nos matrices\n",
    "    A = matrice(\"A\",N,1e-8,1e-18)\n",
    "    \n",
    "    #On crée notre vecteur initial\n",
    "    psi = psi_0_vec(L,N)\n",
    "\n",
    "    #On crée nos liste vides qui serviront à stocker nos points (eventuellement pour tracer)\n",
    "    liste_x = np.arange(0,L,L/(N+1))\n",
    "    liste_z =[]\n",
    "    for i in range(len(liste_x)):\n",
    "        liste_z.append(0)\n",
    "    liste_psi = []\n",
    "\n",
    "    #On crée un compteur pour le temps\n",
    "    t=0\n",
    "    \n",
    "    #On crée le premier état (t=0)\n",
    "    etat_1=np.transpose(np.real(psi))\n",
    "    etat_2 = np.transpose(np.imag(psi))\n",
    "    liste_psi = etat_1\n",
    "    liste_zim = etat_2\n",
    "\n",
    "    #On plot le premier etat\n",
    "    ax = plt.axes(projection='3d')\n",
    "    line = ax.plot3D(liste_x, liste_psi[0],  liste_zim[0], c='blue')\n",
    "    plt.show()\n",
    "    plt.pause(0.2)\n",
    "    #On crée une boucle infini\n",
    "    while True:\n",
    "        #On augmente notre compteur de temps de h\n",
    "        t += h\n",
    "        #On applique la méhode de thomas pour trouver le deuxième etat\n",
    "        v= v_vec(L,N,h,psi)\n",
    "        psi = np.linalg.solve(A,v)\n",
    "        etat = np.transpose(np.real(psi))\n",
    "        etat2 = np.transpose(np.imag(psi))\n",
    "        liste_psi = etat\n",
    "        liste_zim = etat2\n",
    "        #On plot le premier etat\n",
    "        ax.set_ylim3d(-1,1)\n",
    "        ax.set_zlim3d(-1,1)\n",
    "        line = ax.plot3D(liste_x, liste_psi[0],  liste_zim[0], c='blue')\n",
    "        figure.show()\n",
    "        figure.canvas.flush_events()\n",
    "        time.sleep(0.00001)\n",
    "        ax.cla()"
   ]
  },
  {
   "cell_type": "code",
   "execution_count": null,
   "metadata": {},
   "outputs": [],
   "source": [
    "Crank_Nico_linalg(1e-18,1000,1e-8)"
   ]
  },
  {
   "cell_type": "markdown",
   "metadata": {},
   "source": [
    "### Question 5"
   ]
  },
  {
   "cell_type": "markdown",
   "metadata": {},
   "source": [
    "La fonction d'onde se déplace au fil du temps de sa position au temps $t=0$ jusqu'à l'extrémité droite de la boîte unidimensionnelle lors des premiers incréments de temps. Ce comportement est attendu comme la fonction initiale implique une exponentielle complexe positive. En s'approchant de la parois, la fonction d'onde oscille de plus en plus énergétiquement, symbole que sa densité de probablité est de plus en plus incertaine, sa probabilité de présence étant de plus en plus basse en s'y approchant. On peut reconnaître ensuite une sorte de réflection dure de la fonction d'onde sur la parois, qui retournera à sa position intiale avant se déplacer vers la seconde parois de la boîte. Comme les comportements de la fonction d'onde calculé par notre fonction implémentée et celle de numpy.linalg sont identiques, on peut en déduire que notre algorithme est un moyen efficace de rapidement résoudre numériquement l'équation de Shroedinger pour cette particule dans une boîte."
   ]
  }
 ],
 "metadata": {
  "kernelspec": {
   "display_name": "Python 3",
   "language": "python",
   "name": "python3"
  },
  "language_info": {
   "codemirror_mode": {
    "name": "ipython",
    "version": 3
   },
   "file_extension": ".py",
   "mimetype": "text/x-python",
   "name": "python",
   "nbconvert_exporter": "python",
   "pygments_lexer": "ipython3",
   "version": "3.8.0"
  }
 },
 "nbformat": 4,
 "nbformat_minor": 2
}
